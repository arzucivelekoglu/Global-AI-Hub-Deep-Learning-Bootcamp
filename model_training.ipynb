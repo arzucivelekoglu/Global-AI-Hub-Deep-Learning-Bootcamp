{
 "cells": [
  {
   "cell_type": "code",
   "execution_count": 1,
   "metadata": {},
   "outputs": [],
   "source": [
    "import tensorflow as tf"
   ]
  },
  {
   "cell_type": "code",
   "execution_count": 2,
   "metadata": {},
   "outputs": [],
   "source": [
    "import matplotlib.pyplot as plt \n",
    "import pandas as pd\n",
    "import os\n",
    "import librosa\n",
    "import numpy as np\n",
    "from tqdm import tqdm"
   ]
  },
  {
   "cell_type": "code",
   "execution_count": 3,
   "metadata": {},
   "outputs": [],
   "source": [
    "from sklearn.model_selection import train_test_split\n",
    "from tensorflow.keras.utils import to_categorical\n",
    "from sklearn.preprocessing import LabelEncoder\n",
    "from tensorflow.keras.models import Sequential\n",
    "from tensorflow.keras.layers import Dense,Dropout,Activation,Flatten\n",
    "from tensorflow.keras.optimizers import Adam\n"
   ]
  },
  {
   "cell_type": "code",
   "execution_count": 4,
   "metadata": {},
   "outputs": [],
   "source": [
    "from sklearn import metrics\n",
    "from tensorflow.keras.callbacks import ModelCheckpoint\n",
    "from datetime import datetime\n",
    "%matplotlib inline "
   ]
  },
  {
   "cell_type": "code",
   "execution_count": 5,
   "metadata": {},
   "outputs": [],
   "source": [
    "import librosa\n",
    "adudio_file_path = \"C://Users//oskar//Masaüstü//yeni//globalai7//audio//fold3//6988-5-0-2.wav\"\n",
    "librosa_audio_data,librosa_sample_rate =librosa.load(adudio_file_path)\n"
   ]
  },
  {
   "cell_type": "code",
   "execution_count": 6,
   "metadata": {},
   "outputs": [
    {
     "data": {
      "text/plain": [
       "(88200,)"
      ]
     },
     "execution_count": 6,
     "metadata": {},
     "output_type": "execute_result"
    }
   ],
   "source": [
    "librosa_audio_data.shape"
   ]
  },
  {
   "cell_type": "code",
   "execution_count": 7,
   "metadata": {},
   "outputs": [
    {
     "data": {
      "text/plain": [
       "[<matplotlib.lines.Line2D at 0x27ce2fc8cd0>]"
      ]
     },
     "execution_count": 7,
     "metadata": {},
     "output_type": "execute_result"
    },
    {
     "data": {
      "image/png": "[encoded data removed]",
      "text/plain": [
       "<Figure size 432x288 with 1 Axes>"
      ]
     },
     "metadata": {
      "needs_background": "light"
     },
     "output_type": "display_data"
    }
   ],
   "source": [
    "plt.plot(librosa_audio_data)\n"
   ]
  },
  {
   "cell_type": "code",
   "execution_count": 8,
   "metadata": {},
   "outputs": [],
   "source": [
    "mfccs = librosa.feature.mfcc(y=librosa_audio_data,sr=librosa_sample_rate,n_mfcc=40)"
   ]
  },
  {
   "cell_type": "code",
   "execution_count": 9,
   "metadata": {},
   "outputs": [
    {
     "data": {
      "text/plain": [
       "(40, 173)"
      ]
     },
     "execution_count": 9,
     "metadata": {},
     "output_type": "execute_result"
    }
   ],
   "source": [
    "mfccs.shape"
   ]
  },
  {
   "cell_type": "code",
   "execution_count": 10,
   "metadata": {},
   "outputs": [
    {
     "data": {
      "text/html": [
       "<div>\n",
       "<style scoped>\n",
       "    .dataframe tbody tr th:only-of-type {\n",
       "        vertical-align: middle;\n",
       "    }\n",
       "\n",
       "    .dataframe tbody tr th {\n",
       "        vertical-align: top;\n",
       "    }\n",
       "\n",
       "    .dataframe thead th {\n",
       "        text-align: right;\n",
       "    }\n",
       "</style>\n",
       "<table border=\"1\" class=\"dataframe\">\n",
       "  <thead>\n",
       "    <tr style=\"text-align: right;\">\n",
       "      <th></th>\n",
       "      <th>slice_file_name</th>\n",
       "      <th>fsID</th>\n",
       "      <th>start</th>\n",
       "      <th>end</th>\n",
       "      <th>salience</th>\n",
       "      <th>fold</th>\n",
       "      <th>classID</th>\n",
       "      <th>class</th>\n",
       "    </tr>\n",
       "  </thead>\n",
       "  <tbody>\n",
       "    <tr>\n",
       "      <th>0</th>\n",
       "      <td>100032-3-0-0.wav</td>\n",
       "      <td>100032</td>\n",
       "      <td>0.0</td>\n",
       "      <td>0.317551</td>\n",
       "      <td>1</td>\n",
       "      <td>5</td>\n",
       "      <td>3</td>\n",
       "      <td>dog_bark</td>\n",
       "    </tr>\n",
       "    <tr>\n",
       "      <th>1</th>\n",
       "      <td>100263-2-0-117.wav</td>\n",
       "      <td>100263</td>\n",
       "      <td>58.5</td>\n",
       "      <td>62.500000</td>\n",
       "      <td>1</td>\n",
       "      <td>5</td>\n",
       "      <td>2</td>\n",
       "      <td>children_playing</td>\n",
       "    </tr>\n",
       "    <tr>\n",
       "      <th>2</th>\n",
       "      <td>100263-2-0-121.wav</td>\n",
       "      <td>100263</td>\n",
       "      <td>60.5</td>\n",
       "      <td>64.500000</td>\n",
       "      <td>1</td>\n",
       "      <td>5</td>\n",
       "      <td>2</td>\n",
       "      <td>children_playing</td>\n",
       "    </tr>\n",
       "    <tr>\n",
       "      <th>3</th>\n",
       "      <td>100263-2-0-126.wav</td>\n",
       "      <td>100263</td>\n",
       "      <td>63.0</td>\n",
       "      <td>67.000000</td>\n",
       "      <td>1</td>\n",
       "      <td>5</td>\n",
       "      <td>2</td>\n",
       "      <td>children_playing</td>\n",
       "    </tr>\n",
       "    <tr>\n",
       "      <th>4</th>\n",
       "      <td>100263-2-0-137.wav</td>\n",
       "      <td>100263</td>\n",
       "      <td>68.5</td>\n",
       "      <td>72.500000</td>\n",
       "      <td>1</td>\n",
       "      <td>5</td>\n",
       "      <td>2</td>\n",
       "      <td>children_playing</td>\n",
       "    </tr>\n",
       "  </tbody>\n",
       "</table>\n",
       "</div>"
      ],
      "text/plain": [
       "      slice_file_name    fsID  start        end  salience  fold  classID  \\\n",
       "0    100032-3-0-0.wav  100032    0.0   0.317551         1     5        3   \n",
       "1  100263-2-0-117.wav  100263   58.5  62.500000         1     5        2   \n",
       "2  100263-2-0-121.wav  100263   60.5  64.500000         1     5        2   \n",
       "3  100263-2-0-126.wav  100263   63.0  67.000000         1     5        2   \n",
       "4  100263-2-0-137.wav  100263   68.5  72.500000         1     5        2   \n",
       "\n",
       "              class  \n",
       "0          dog_bark  \n",
       "1  children_playing  \n",
       "2  children_playing  \n",
       "3  children_playing  \n",
       "4  children_playing  "
      ]
     },
     "execution_count": 10,
     "metadata": {},
     "output_type": "execute_result"
    }
   ],
   "source": [
    "audio_dataset_path = \"C:\\\\Users\\\\oskar\\\\Masaüstü\\\\yeni\\\\globalai7\\\\audio\"\n",
    "metadata = pd.read_csv(\"UrbanSound8K.csv\")\n",
    "metadata.head()"
   ]
  },
  {
   "cell_type": "code",
   "execution_count": 11,
   "metadata": {},
   "outputs": [],
   "source": [
    "from email.mime import audio\n",
    "\n",
    "\n",
    "def feature_extractor(file):\n",
    "    audio,sample_rate = librosa.load(file_name,res_type=\"kaiser_fast\")\n",
    "    mfcss_features = librosa.feature.mfcc(y=audio,sr=sample_rate,n_mfcc=40)\n",
    "    mfccs_scaled_features = np.mean(mfcss_features.T,axis=0)\n",
    "    \n",
    "    return mfccs_scaled_features"
   ]
  },
  {
   "cell_type": "code",
   "execution_count": 12,
   "metadata": {},
   "outputs": [
    {
     "name": "stderr",
     "output_type": "stream",
     "text": [
      "3553it [02:26, 23.71it/s]c:\\Users\\oskar\\AppData\\Local\\Programs\\Python\\Python310\\lib\\site-packages\\librosa\\util\\decorators.py:88: UserWarning: n_fft=2048 is too small for input signal of length=1323\n",
      "  return f(*args, **kwargs)\n",
      "8324it [05:33, 34.18it/s]c:\\Users\\oskar\\AppData\\Local\\Programs\\Python\\Python310\\lib\\site-packages\\librosa\\util\\decorators.py:88: UserWarning: n_fft=2048 is too small for input signal of length=1103\n",
      "  return f(*args, **kwargs)\n",
      "c:\\Users\\oskar\\AppData\\Local\\Programs\\Python\\Python310\\lib\\site-packages\\librosa\\util\\decorators.py:88: UserWarning: n_fft=2048 is too small for input signal of length=1523\n",
      "  return f(*args, **kwargs)\n",
      "8732it [05:48, 25.05it/s]\n"
     ]
    }
   ],
   "source": [
    "extracted_features = []\n",
    "\n",
    "for index_num,row in tqdm(metadata.iterrows()):\n",
    "    file_name = os.path.join(os.path.abspath(audio_dataset_path),\"fold\"+str(row[\"fold\"])+\"\\\\\" +str(row[\"slice_file_name\"]))\n",
    "    final_class_labels = row[\"class\"]\n",
    "    data = feature_extractor(file_name)\n",
    "    extracted_features.append([data,final_class_labels])\n",
    "    "
   ]
  },
  {
   "cell_type": "code",
   "execution_count": 13,
   "metadata": {},
   "outputs": [
    {
     "data": {
      "text/html": [
       "<div>\n",
       "<style scoped>\n",
       "    .dataframe tbody tr th:only-of-type {\n",
       "        vertical-align: middle;\n",
       "    }\n",
       "\n",
       "    .dataframe tbody tr th {\n",
       "        vertical-align: top;\n",
       "    }\n",
       "\n",
       "    .dataframe thead th {\n",
       "        text-align: right;\n",
       "    }\n",
       "</style>\n",
       "<table border=\"1\" class=\"dataframe\">\n",
       "  <thead>\n",
       "    <tr style=\"text-align: right;\">\n",
       "      <th></th>\n",
       "      <th>features</th>\n",
       "      <th>class</th>\n",
       "    </tr>\n",
       "  </thead>\n",
       "  <tbody>\n",
       "    <tr>\n",
       "      <th>0</th>\n",
       "      <td>[-217.35526, 70.22338, -130.38527, -53.282898,...</td>\n",
       "      <td>dog_bark</td>\n",
       "    </tr>\n",
       "    <tr>\n",
       "      <th>1</th>\n",
       "      <td>[-424.09818, 109.34077, -52.919525, 60.86475, ...</td>\n",
       "      <td>children_playing</td>\n",
       "    </tr>\n",
       "    <tr>\n",
       "      <th>2</th>\n",
       "      <td>[-458.79114, 121.38419, -46.52066, 52.00812, -...</td>\n",
       "      <td>children_playing</td>\n",
       "    </tr>\n",
       "    <tr>\n",
       "      <th>3</th>\n",
       "      <td>[-413.89984, 101.66371, -35.42945, 53.036358, ...</td>\n",
       "      <td>children_playing</td>\n",
       "    </tr>\n",
       "    <tr>\n",
       "      <th>4</th>\n",
       "      <td>[-446.60352, 113.68541, -52.402218, 60.302044,...</td>\n",
       "      <td>children_playing</td>\n",
       "    </tr>\n",
       "  </tbody>\n",
       "</table>\n",
       "</div>"
      ],
      "text/plain": [
       "                                            features             class\n",
       "0  [-217.35526, 70.22338, -130.38527, -53.282898,...          dog_bark\n",
       "1  [-424.09818, 109.34077, -52.919525, 60.86475, ...  children_playing\n",
       "2  [-458.79114, 121.38419, -46.52066, 52.00812, -...  children_playing\n",
       "3  [-413.89984, 101.66371, -35.42945, 53.036358, ...  children_playing\n",
       "4  [-446.60352, 113.68541, -52.402218, 60.302044,...  children_playing"
      ]
     },
     "execution_count": 13,
     "metadata": {},
     "output_type": "execute_result"
    }
   ],
   "source": [
    "extracted_features_df = pd.DataFrame(extracted_features, columns =[\"features\",\"class\"])\n",
    "extracted_features_df.head()"
   ]
  },
  {
   "cell_type": "code",
   "execution_count": 14,
   "metadata": {},
   "outputs": [],
   "source": [
    "x = np.array(extracted_features_df[\"features\"].tolist())\n",
    "y = np.array(extracted_features_df[\"class\"].tolist())\n"
   ]
  },
  {
   "cell_type": "code",
   "execution_count": 15,
   "metadata": {},
   "outputs": [
    {
     "data": {
      "text/plain": [
       "(8732, 40)"
      ]
     },
     "execution_count": 15,
     "metadata": {},
     "output_type": "execute_result"
    }
   ],
   "source": [
    "x.shape"
   ]
  },
  {
   "cell_type": "code",
   "execution_count": 16,
   "metadata": {},
   "outputs": [],
   "source": [
    "labelencoder = LabelEncoder()\n",
    "y= to_categorical(labelencoder.fit_transform(y))\n"
   ]
  },
  {
   "cell_type": "code",
   "execution_count": 17,
   "metadata": {},
   "outputs": [],
   "source": [
    "x_train,x_test,y_train,y_test = train_test_split(x,y,train_size=0.8,random_state=3)"
   ]
  },
  {
   "cell_type": "code",
   "execution_count": 18,
   "metadata": {},
   "outputs": [],
   "source": [
    "num_labels = 10"
   ]
  },
  {
   "cell_type": "code",
   "execution_count": 19,
   "metadata": {},
   "outputs": [],
   "source": [
    "model = tf.keras.Sequential()\n",
    "\n",
    "model.add(tf.keras.layers.Dense(125,input_shape=(40,),activation='relu'))\n",
    "model.add(tf.keras.layers.Dropout(0.5))\n",
    "\n",
    "\n",
    "model.add(tf.keras.layers.Dense(250,activation='relu'))\n",
    "model.add(tf.keras.layers.Dropout(0.5))\n",
    "\n",
    "\n",
    "model.add(tf.keras.layers.Dense(125,activation='relu'))\n",
    "model.add(tf.keras.layers.Dropout(0.5))\n",
    "\n",
    "model.add(tf.keras.layers.Dense(num_labels,activation='softmax'))\n"
   ]
  },
  {
   "cell_type": "code",
   "execution_count": 20,
   "metadata": {},
   "outputs": [],
   "source": [
    "model.compile(loss=\"categorical_crossentropy\",metrics=[\"accuracy\"],optimizer=\"adam\")\n"
   ]
  },
  {
   "cell_type": "code",
   "execution_count": 21,
   "metadata": {},
   "outputs": [
    {
     "name": "stdout",
     "output_type": "stream",
     "text": [
      "Epoch 1/100\n",
      "219/219 [==============================] - 2s 4ms/step - loss: 9.5565 - accuracy: 0.1233 - val_loss: 2.2807 - val_accuracy: 0.1380\n",
      "Epoch 2/100\n",
      "219/219 [==============================] - 1s 3ms/step - loss: 2.4976 - accuracy: 0.1339 - val_loss: 2.2097 - val_accuracy: 0.1557\n",
      "Epoch 3/100\n",
      "219/219 [==============================] - 1s 3ms/step - loss: 2.2525 - accuracy: 0.1645 - val_loss: 2.1193 - val_accuracy: 0.2078\n",
      "Epoch 4/100\n",
      "219/219 [==============================] - 1s 3ms/step - loss: 2.1780 - accuracy: 0.1937 - val_loss: 2.0828 - val_accuracy: 0.1958\n",
      "Epoch 5/100\n",
      "219/219 [==============================] - 1s 3ms/step - loss: 2.1293 - accuracy: 0.2129 - val_loss: 1.9812 - val_accuracy: 0.2559\n",
      "Epoch 6/100\n",
      "219/219 [==============================] - 1s 3ms/step - loss: 2.0608 - accuracy: 0.2329 - val_loss: 1.9257 - val_accuracy: 0.2856\n",
      "Epoch 7/100\n",
      "219/219 [==============================] - 1s 3ms/step - loss: 1.9994 - accuracy: 0.2568 - val_loss: 1.8987 - val_accuracy: 0.3188\n",
      "Epoch 8/100\n",
      "219/219 [==============================] - 1s 3ms/step - loss: 1.9820 - accuracy: 0.2611 - val_loss: 1.8707 - val_accuracy: 0.3246\n",
      "Epoch 9/100\n",
      "219/219 [==============================] - 1s 3ms/step - loss: 1.9500 - accuracy: 0.2776 - val_loss: 1.8310 - val_accuracy: 0.3469\n",
      "Epoch 10/100\n",
      "219/219 [==============================] - 1s 3ms/step - loss: 1.9196 - accuracy: 0.2961 - val_loss: 1.8244 - val_accuracy: 0.3371\n",
      "Epoch 11/100\n",
      "219/219 [==============================] - 1s 3ms/step - loss: 1.8756 - accuracy: 0.3114 - val_loss: 1.7498 - val_accuracy: 0.3938\n",
      "Epoch 12/100\n",
      "219/219 [==============================] - 1s 3ms/step - loss: 1.8339 - accuracy: 0.3364 - val_loss: 1.7125 - val_accuracy: 0.4167\n",
      "Epoch 13/100\n",
      "219/219 [==============================] - 1s 3ms/step - loss: 1.7949 - accuracy: 0.3568 - val_loss: 1.6396 - val_accuracy: 0.4465\n",
      "Epoch 14/100\n",
      "219/219 [==============================] - 1s 3ms/step - loss: 1.7427 - accuracy: 0.3792 - val_loss: 1.5750 - val_accuracy: 0.4608\n",
      "Epoch 15/100\n",
      "219/219 [==============================] - 1s 3ms/step - loss: 1.6789 - accuracy: 0.4049 - val_loss: 1.4855 - val_accuracy: 0.5072\n",
      "Epoch 16/100\n",
      "219/219 [==============================] - 1s 3ms/step - loss: 1.6182 - accuracy: 0.4325 - val_loss: 1.4211 - val_accuracy: 0.5272\n",
      "Epoch 17/100\n",
      "219/219 [==============================] - 1s 3ms/step - loss: 1.5507 - accuracy: 0.4515 - val_loss: 1.3618 - val_accuracy: 0.5363\n",
      "Epoch 18/100\n",
      "219/219 [==============================] - 1s 3ms/step - loss: 1.5312 - accuracy: 0.4697 - val_loss: 1.3502 - val_accuracy: 0.5455\n",
      "Epoch 19/100\n",
      "219/219 [==============================] - 1s 3ms/step - loss: 1.4956 - accuracy: 0.4789 - val_loss: 1.3107 - val_accuracy: 0.5724\n",
      "Epoch 20/100\n",
      "219/219 [==============================] - 1s 3ms/step - loss: 1.4706 - accuracy: 0.4815 - val_loss: 1.2874 - val_accuracy: 0.5713\n",
      "Epoch 21/100\n",
      "219/219 [==============================] - 1s 3ms/step - loss: 1.4512 - accuracy: 0.4948 - val_loss: 1.2546 - val_accuracy: 0.5856\n",
      "Epoch 22/100\n",
      "219/219 [==============================] - 1s 3ms/step - loss: 1.3995 - accuracy: 0.5162 - val_loss: 1.2006 - val_accuracy: 0.6148\n",
      "Epoch 23/100\n",
      "219/219 [==============================] - 1s 3ms/step - loss: 1.3856 - accuracy: 0.5207 - val_loss: 1.1410 - val_accuracy: 0.6245\n",
      "Epoch 24/100\n",
      "219/219 [==============================] - 1s 3ms/step - loss: 1.3545 - accuracy: 0.5353 - val_loss: 1.1337 - val_accuracy: 0.6171\n",
      "Epoch 25/100\n",
      "219/219 [==============================] - 1s 3ms/step - loss: 1.3445 - accuracy: 0.5409 - val_loss: 1.1322 - val_accuracy: 0.6400\n",
      "Epoch 26/100\n",
      "219/219 [==============================] - 1s 4ms/step - loss: 1.3078 - accuracy: 0.5520 - val_loss: 1.1296 - val_accuracy: 0.6216\n",
      "Epoch 27/100\n",
      "219/219 [==============================] - 1s 3ms/step - loss: 1.2521 - accuracy: 0.5707 - val_loss: 1.0967 - val_accuracy: 0.6308\n",
      "Epoch 28/100\n",
      "219/219 [==============================] - 1s 3ms/step - loss: 1.2573 - accuracy: 0.5691 - val_loss: 1.0694 - val_accuracy: 0.6634\n",
      "Epoch 29/100\n",
      "219/219 [==============================] - 1s 3ms/step - loss: 1.2433 - accuracy: 0.5768 - val_loss: 1.0489 - val_accuracy: 0.6491\n",
      "Epoch 30/100\n",
      "219/219 [==============================] - 1s 3ms/step - loss: 1.2289 - accuracy: 0.5785 - val_loss: 1.0594 - val_accuracy: 0.6657\n",
      "Epoch 31/100\n",
      "219/219 [==============================] - 1s 3ms/step - loss: 1.1950 - accuracy: 0.5863 - val_loss: 1.0054 - val_accuracy: 0.6623\n",
      "Epoch 32/100\n",
      "219/219 [==============================] - 1s 3ms/step - loss: 1.1945 - accuracy: 0.5881 - val_loss: 0.9956 - val_accuracy: 0.6835\n",
      "Epoch 33/100\n",
      "219/219 [==============================] - 1s 3ms/step - loss: 1.1732 - accuracy: 0.5961 - val_loss: 1.0124 - val_accuracy: 0.6732\n",
      "Epoch 34/100\n",
      "219/219 [==============================] - 1s 3ms/step - loss: 1.1758 - accuracy: 0.5994 - val_loss: 0.9881 - val_accuracy: 0.6760\n",
      "Epoch 35/100\n",
      "219/219 [==============================] - 1s 3ms/step - loss: 1.1610 - accuracy: 0.6083 - val_loss: 0.9800 - val_accuracy: 0.6846\n",
      "Epoch 36/100\n",
      "219/219 [==============================] - 1s 3ms/step - loss: 1.1327 - accuracy: 0.6132 - val_loss: 0.9362 - val_accuracy: 0.7001\n",
      "Epoch 37/100\n",
      "219/219 [==============================] - 1s 3ms/step - loss: 1.1217 - accuracy: 0.6170 - val_loss: 0.9561 - val_accuracy: 0.6880\n",
      "Epoch 38/100\n",
      "219/219 [==============================] - 1s 3ms/step - loss: 1.1047 - accuracy: 0.6216 - val_loss: 0.9415 - val_accuracy: 0.7121\n",
      "Epoch 39/100\n",
      "219/219 [==============================] - 1s 3ms/step - loss: 1.0954 - accuracy: 0.6305 - val_loss: 0.9067 - val_accuracy: 0.7098\n",
      "Epoch 40/100\n",
      "219/219 [==============================] - 1s 3ms/step - loss: 1.0993 - accuracy: 0.6339 - val_loss: 0.9063 - val_accuracy: 0.7058\n",
      "Epoch 41/100\n",
      "219/219 [==============================] - 1s 3ms/step - loss: 1.0816 - accuracy: 0.6427 - val_loss: 0.8794 - val_accuracy: 0.7178\n",
      "Epoch 42/100\n",
      "219/219 [==============================] - 1s 3ms/step - loss: 1.0609 - accuracy: 0.6394 - val_loss: 0.8739 - val_accuracy: 0.7247\n",
      "Epoch 43/100\n",
      "219/219 [==============================] - 1s 3ms/step - loss: 1.0574 - accuracy: 0.6480 - val_loss: 0.8849 - val_accuracy: 0.7018\n",
      "Epoch 44/100\n",
      "219/219 [==============================] - 1s 3ms/step - loss: 1.0450 - accuracy: 0.6431 - val_loss: 0.8630 - val_accuracy: 0.7230\n",
      "Epoch 45/100\n",
      "219/219 [==============================] - 1s 3ms/step - loss: 1.0574 - accuracy: 0.6402 - val_loss: 0.8450 - val_accuracy: 0.7230\n",
      "Epoch 46/100\n",
      "219/219 [==============================] - 1s 3ms/step - loss: 1.0247 - accuracy: 0.6538 - val_loss: 0.8612 - val_accuracy: 0.7321\n",
      "Epoch 47/100\n",
      "219/219 [==============================] - 1s 3ms/step - loss: 1.0283 - accuracy: 0.6587 - val_loss: 0.8481 - val_accuracy: 0.7424\n",
      "Epoch 48/100\n",
      "219/219 [==============================] - 1s 3ms/step - loss: 1.0149 - accuracy: 0.6573 - val_loss: 0.8283 - val_accuracy: 0.7287\n",
      "Epoch 49/100\n",
      "219/219 [==============================] - 1s 3ms/step - loss: 1.0197 - accuracy: 0.6573 - val_loss: 0.8397 - val_accuracy: 0.7304\n",
      "Epoch 50/100\n",
      "219/219 [==============================] - 1s 3ms/step - loss: 1.0212 - accuracy: 0.6565 - val_loss: 0.8145 - val_accuracy: 0.7355\n",
      "Epoch 51/100\n",
      "219/219 [==============================] - 1s 3ms/step - loss: 0.9894 - accuracy: 0.6683 - val_loss: 0.8520 - val_accuracy: 0.7470\n",
      "Epoch 52/100\n",
      "219/219 [==============================] - 1s 3ms/step - loss: 0.9958 - accuracy: 0.6643 - val_loss: 0.8094 - val_accuracy: 0.7401\n",
      "Epoch 53/100\n",
      "219/219 [==============================] - 1s 3ms/step - loss: 1.0021 - accuracy: 0.6633 - val_loss: 0.8273 - val_accuracy: 0.7378\n",
      "Epoch 54/100\n",
      "219/219 [==============================] - 1s 3ms/step - loss: 0.9979 - accuracy: 0.6676 - val_loss: 0.8169 - val_accuracy: 0.7436\n",
      "Epoch 55/100\n",
      "219/219 [==============================] - 1s 3ms/step - loss: 0.9729 - accuracy: 0.6742 - val_loss: 0.8059 - val_accuracy: 0.7396\n",
      "Epoch 56/100\n",
      "219/219 [==============================] - 1s 3ms/step - loss: 0.9572 - accuracy: 0.6815 - val_loss: 0.8027 - val_accuracy: 0.7378\n",
      "Epoch 57/100\n",
      "219/219 [==============================] - 1s 3ms/step - loss: 0.9684 - accuracy: 0.6722 - val_loss: 0.7795 - val_accuracy: 0.7464\n",
      "Epoch 58/100\n",
      "219/219 [==============================] - 1s 3ms/step - loss: 0.9886 - accuracy: 0.6703 - val_loss: 0.7805 - val_accuracy: 0.7562\n",
      "Epoch 59/100\n",
      "219/219 [==============================] - 1s 3ms/step - loss: 0.9581 - accuracy: 0.6799 - val_loss: 0.7786 - val_accuracy: 0.7493\n",
      "Epoch 60/100\n",
      "219/219 [==============================] - 1s 3ms/step - loss: 0.9515 - accuracy: 0.6809 - val_loss: 0.7805 - val_accuracy: 0.7550\n",
      "Epoch 61/100\n",
      "219/219 [==============================] - 1s 3ms/step - loss: 0.9552 - accuracy: 0.6744 - val_loss: 0.7814 - val_accuracy: 0.7418\n",
      "Epoch 62/100\n",
      "219/219 [==============================] - 1s 3ms/step - loss: 0.9343 - accuracy: 0.6882 - val_loss: 0.7575 - val_accuracy: 0.7476\n",
      "Epoch 63/100\n",
      "219/219 [==============================] - 1s 3ms/step - loss: 0.9357 - accuracy: 0.6858 - val_loss: 0.7714 - val_accuracy: 0.7510\n",
      "Epoch 64/100\n",
      "219/219 [==============================] - 1s 3ms/step - loss: 0.9415 - accuracy: 0.6797 - val_loss: 0.7932 - val_accuracy: 0.7447\n",
      "Epoch 65/100\n",
      "219/219 [==============================] - 1s 3ms/step - loss: 0.9590 - accuracy: 0.6833 - val_loss: 0.7671 - val_accuracy: 0.7579\n",
      "Epoch 66/100\n",
      "219/219 [==============================] - 1s 3ms/step - loss: 0.9168 - accuracy: 0.6953 - val_loss: 0.7501 - val_accuracy: 0.7556\n",
      "Epoch 67/100\n",
      "219/219 [==============================] - 1s 3ms/step - loss: 0.9120 - accuracy: 0.6839 - val_loss: 0.7429 - val_accuracy: 0.7676\n",
      "Epoch 68/100\n",
      "219/219 [==============================] - 1s 3ms/step - loss: 0.9197 - accuracy: 0.6968 - val_loss: 0.7818 - val_accuracy: 0.7453\n",
      "Epoch 69/100\n",
      "219/219 [==============================] - 1s 3ms/step - loss: 0.9393 - accuracy: 0.6860 - val_loss: 0.7480 - val_accuracy: 0.7584\n",
      "Epoch 70/100\n",
      "219/219 [==============================] - 1s 3ms/step - loss: 0.9085 - accuracy: 0.7012 - val_loss: 0.7507 - val_accuracy: 0.7596\n",
      "Epoch 71/100\n",
      "219/219 [==============================] - 1s 3ms/step - loss: 0.9210 - accuracy: 0.6936 - val_loss: 0.7308 - val_accuracy: 0.7676\n",
      "Epoch 72/100\n",
      "219/219 [==============================] - 1s 3ms/step - loss: 0.9319 - accuracy: 0.6882 - val_loss: 0.7453 - val_accuracy: 0.7607\n",
      "Epoch 73/100\n",
      "219/219 [==============================] - 1s 3ms/step - loss: 0.9228 - accuracy: 0.6899 - val_loss: 0.7485 - val_accuracy: 0.7602\n",
      "Epoch 74/100\n",
      "219/219 [==============================] - 1s 3ms/step - loss: 0.8790 - accuracy: 0.7048 - val_loss: 0.7083 - val_accuracy: 0.7790\n",
      "Epoch 75/100\n",
      "219/219 [==============================] - 1s 3ms/step - loss: 0.9143 - accuracy: 0.6994 - val_loss: 0.7413 - val_accuracy: 0.7544\n",
      "Epoch 76/100\n",
      "219/219 [==============================] - 1s 3ms/step - loss: 0.9143 - accuracy: 0.6943 - val_loss: 0.7350 - val_accuracy: 0.7705\n",
      "Epoch 77/100\n",
      "219/219 [==============================] - 1s 3ms/step - loss: 0.9096 - accuracy: 0.7018 - val_loss: 0.7350 - val_accuracy: 0.7750\n",
      "Epoch 78/100\n",
      "219/219 [==============================] - 1s 3ms/step - loss: 0.8867 - accuracy: 0.7025 - val_loss: 0.7265 - val_accuracy: 0.7624\n",
      "Epoch 79/100\n",
      "219/219 [==============================] - 1s 3ms/step - loss: 0.8960 - accuracy: 0.7074 - val_loss: 0.7199 - val_accuracy: 0.7773\n",
      "Epoch 80/100\n",
      "219/219 [==============================] - 1s 3ms/step - loss: 0.8912 - accuracy: 0.7081 - val_loss: 0.7191 - val_accuracy: 0.7722\n",
      "Epoch 81/100\n",
      "219/219 [==============================] - 1s 3ms/step - loss: 0.8795 - accuracy: 0.7071 - val_loss: 0.7380 - val_accuracy: 0.7665\n",
      "Epoch 82/100\n",
      "219/219 [==============================] - 1s 3ms/step - loss: 0.8880 - accuracy: 0.7022 - val_loss: 0.7291 - val_accuracy: 0.7590\n",
      "Epoch 83/100\n",
      "219/219 [==============================] - 1s 3ms/step - loss: 0.8767 - accuracy: 0.7067 - val_loss: 0.7141 - val_accuracy: 0.7728\n",
      "Epoch 84/100\n",
      "219/219 [==============================] - 1s 3ms/step - loss: 0.8577 - accuracy: 0.7147 - val_loss: 0.7188 - val_accuracy: 0.7647\n",
      "Epoch 85/100\n",
      "219/219 [==============================] - 1s 3ms/step - loss: 0.8748 - accuracy: 0.7077 - val_loss: 0.7267 - val_accuracy: 0.7682\n",
      "Epoch 86/100\n",
      "219/219 [==============================] - 1s 3ms/step - loss: 0.8765 - accuracy: 0.7055 - val_loss: 0.7138 - val_accuracy: 0.7699\n",
      "Epoch 87/100\n",
      "219/219 [==============================] - 1s 3ms/step - loss: 0.8464 - accuracy: 0.7177 - val_loss: 0.7050 - val_accuracy: 0.7682\n",
      "Epoch 88/100\n",
      "219/219 [==============================] - 1s 3ms/step - loss: 0.8625 - accuracy: 0.7121 - val_loss: 0.7138 - val_accuracy: 0.7659\n",
      "Epoch 89/100\n",
      "219/219 [==============================] - 1s 3ms/step - loss: 0.8579 - accuracy: 0.7120 - val_loss: 0.6859 - val_accuracy: 0.7802\n",
      "Epoch 90/100\n",
      "219/219 [==============================] - 1s 3ms/step - loss: 0.8581 - accuracy: 0.7145 - val_loss: 0.6813 - val_accuracy: 0.7894\n",
      "Epoch 91/100\n",
      "219/219 [==============================] - 1s 3ms/step - loss: 0.8397 - accuracy: 0.7227 - val_loss: 0.6993 - val_accuracy: 0.7819\n",
      "Epoch 92/100\n",
      "219/219 [==============================] - 1s 3ms/step - loss: 0.8536 - accuracy: 0.7188 - val_loss: 0.6869 - val_accuracy: 0.7796\n",
      "Epoch 93/100\n",
      "219/219 [==============================] - 1s 3ms/step - loss: 0.8598 - accuracy: 0.7175 - val_loss: 0.6936 - val_accuracy: 0.7768\n",
      "Epoch 94/100\n",
      "219/219 [==============================] - 1s 3ms/step - loss: 0.8388 - accuracy: 0.7220 - val_loss: 0.7085 - val_accuracy: 0.7813\n",
      "Epoch 95/100\n",
      "219/219 [==============================] - 1s 3ms/step - loss: 0.8531 - accuracy: 0.7170 - val_loss: 0.6812 - val_accuracy: 0.7882\n",
      "Epoch 96/100\n",
      "219/219 [==============================] - 1s 3ms/step - loss: 0.8544 - accuracy: 0.7135 - val_loss: 0.6795 - val_accuracy: 0.7894\n",
      "Epoch 97/100\n",
      "219/219 [==============================] - 1s 3ms/step - loss: 0.8496 - accuracy: 0.7185 - val_loss: 0.7285 - val_accuracy: 0.7750\n",
      "Epoch 98/100\n",
      "219/219 [==============================] - 1s 3ms/step - loss: 0.8618 - accuracy: 0.7154 - val_loss: 0.6819 - val_accuracy: 0.7871\n",
      "Epoch 99/100\n",
      "219/219 [==============================] - 1s 3ms/step - loss: 0.8439 - accuracy: 0.7221 - val_loss: 0.7028 - val_accuracy: 0.7802\n",
      "Epoch 100/100\n",
      "219/219 [==============================] - 1s 3ms/step - loss: 0.8625 - accuracy: 0.7110 - val_loss: 0.6964 - val_accuracy: 0.7773\n"
     ]
    }
   ],
   "source": [
    "results = model.fit(x_train,y_train,batch_size=32,epochs=100,validation_data=(x_test,y_test),verbose=1)"
   ]
  },
  {
   "cell_type": "code",
   "execution_count": 22,
   "metadata": {},
   "outputs": [
    {
     "data": {
      "image/png": "[encoded data removed]",
      "text/plain": [
       "<Figure size 432x288 with 1 Axes>"
      ]
     },
     "metadata": {
      "needs_background": "light"
     },
     "output_type": "display_data"
    }
   ],
   "source": [
    "plt.plot(results.history[\"loss\"],label=\"Train\")\n",
    "plt.plot(results.history[\"val_loss\"],label=\"Test\")\n",
    "\n",
    "plt.ylabel(\"Loss\")\n",
    "plt.xlabel(\"Epoch\")\n",
    "plt.legend()\n",
    "plt.show()"
   ]
  },
  {
   "cell_type": "code",
   "execution_count": 23,
   "metadata": {},
   "outputs": [
    {
     "name": "stdout",
     "output_type": "stream",
     "text": [
      "55/55 [==============================] - 0s 2ms/step - loss: 0.6964 - accuracy: 0.7773\n"
     ]
    },
    {
     "data": {
      "text/plain": [
       "[0.6964278221130371, 0.7773325443267822]"
      ]
     },
     "execution_count": 23,
     "metadata": {},
     "output_type": "execute_result"
    }
   ],
   "source": [
    "val_test_accuracy = model.evaluate(x_test,y_test)\n",
    "val_test_accuracy"
   ]
  },
  {
   "cell_type": "code",
   "execution_count": 24,
   "metadata": {},
   "outputs": [
    {
     "data": {
      "text/plain": [
       "[0.6964277625083923, 0.7773325443267822]"
      ]
     },
     "execution_count": 24,
     "metadata": {},
     "output_type": "execute_result"
    }
   ],
   "source": [
    "test_result = model.test_on_batch(x_test,y_test)\n",
    "test_result"
   ]
  }
 ],
 "metadata": {
  "kernelspec": {
   "display_name": "Python 3.10.7 64-bit",
   "language": "python",
   "name": "python3"
  },
  "language_info": {
   "codemirror_mode": {
    "name": "ipython",
    "version": 3
   },
   "file_extension": ".py",
   "mimetype": "text/x-python",
   "name": "python",
   "nbconvert_exporter": "python",
   "pygments_lexer": "ipython3",
   "version": "3.10.7"
  },
  "orig_nbformat": 4,
  "vscode": {
   "interpreter": {
    "hash": "4bab1fa137d3230bbc57bbc6e38cb1655d3fe9b1dae043a7ef8c1558f754bf92"
   }
  }
 },
 "nbformat": 4,
 "nbformat_minor": 2
}
